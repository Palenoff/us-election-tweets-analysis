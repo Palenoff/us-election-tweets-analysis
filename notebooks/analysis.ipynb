{
 "cells": [
  {
   "cell_type": "code",
   "execution_count": null,
   "id": "df69f131",
   "metadata": {},
   "outputs": [],
   "source": [
    "import pandas as pd\n",
    "import os\n",
    "from tqdm import tqdm \n",
    "tqdm.pandas()"
   ]
  },
  {
   "cell_type": "code",
   "execution_count": null,
   "id": "c0861d88",
   "metadata": {},
   "outputs": [
    {
     "name": "stdout",
     "output_type": "stream",
     "text": [
      "Reading november_chunk_1.csv.gz\n",
      "Reading november_chunk_10.csv.gz\n",
      "Reading november_chunk_100.csv.gz\n",
      "Reading november_chunk_101.csv.gz\n",
      "Reading november_chunk_102.csv.gz\n",
      "Reading november_chunk_103.csv.gz\n",
      "Reading november_chunk_104.csv.gz\n",
      "Reading november_chunk_105.csv.gz\n",
      "Reading november_chunk_106.csv.gz\n",
      "Reading november_chunk_107.csv.gz\n",
      "Reading november_chunk_108.csv.gz\n",
      "Reading november_chunk_109.csv.gz\n",
      "Reading november_chunk_11.csv.gz\n",
      "Reading november_chunk_110.csv.gz\n",
      "Reading november_chunk_111.csv.gz\n",
      "Reading november_chunk_112.csv.gz\n",
      "Reading november_chunk_113.csv.gz\n",
      "Reading november_chunk_12.csv.gz\n",
      "Reading november_chunk_13.csv.gz\n",
      "Reading november_chunk_14.csv.gz\n",
      "Reading november_chunk_15.csv.gz\n",
      "Reading november_chunk_16.csv.gz\n",
      "Reading november_chunk_17.csv.gz\n",
      "Reading november_chunk_18.csv.gz\n",
      "Reading november_chunk_19.csv.gz\n",
      "Reading november_chunk_2.csv.gz\n",
      "Reading november_chunk_20.csv.gz\n",
      "Reading november_chunk_21.csv.gz\n",
      "Reading november_chunk_22.csv.gz\n",
      "Reading november_chunk_23.csv.gz\n",
      "Reading november_chunk_24.csv.gz\n",
      "Reading november_chunk_25.csv.gz\n",
      "Reading november_chunk_26.csv.gz\n",
      "Reading november_chunk_27.csv.gz\n",
      "Reading november_chunk_28.csv.gz\n",
      "Reading november_chunk_29.csv.gz\n",
      "Reading november_chunk_3.csv.gz\n",
      "Reading november_chunk_30.csv.gz\n",
      "Reading november_chunk_31.csv.gz\n",
      "Reading november_chunk_32.csv.gz\n",
      "Reading november_chunk_33.csv.gz\n",
      "Reading november_chunk_34.csv.gz\n",
      "Reading november_chunk_35.csv.gz\n",
      "Reading november_chunk_36.csv.gz\n",
      "Reading november_chunk_37.csv.gz\n",
      "Reading november_chunk_38.csv.gz\n",
      "Reading november_chunk_39.csv.gz\n",
      "Reading november_chunk_4.csv.gz\n",
      "Reading november_chunk_40.csv.gz\n",
      "Reading november_chunk_41.csv.gz\n",
      "Reading november_chunk_42.csv.gz\n",
      "Reading november_chunk_43.csv.gz\n",
      "Reading november_chunk_44.csv.gz\n",
      "Reading november_chunk_45.csv.gz\n",
      "Reading november_chunk_46.csv.gz\n",
      "Reading november_chunk_47.csv.gz\n",
      "Reading november_chunk_48.csv.gz\n",
      "Reading november_chunk_49.csv.gz\n",
      "Reading november_chunk_5.csv.gz\n",
      "Reading november_chunk_50.csv.gz\n",
      "Reading november_chunk_51.csv.gz\n",
      "Reading november_chunk_52.csv.gz\n",
      "Reading november_chunk_53.csv.gz\n",
      "Reading november_chunk_54.csv.gz\n",
      "Reading november_chunk_55.csv.gz\n",
      "Reading november_chunk_56.csv.gz\n",
      "Reading november_chunk_57.csv.gz\n",
      "Reading november_chunk_58.csv.gz\n",
      "Reading november_chunk_59.csv.gz\n",
      "Reading november_chunk_6.csv.gz\n",
      "Reading november_chunk_60.csv.gz\n",
      "Reading november_chunk_61.csv.gz\n",
      "Reading november_chunk_62.csv.gz\n",
      "Reading november_chunk_63.csv.gz\n",
      "Reading november_chunk_64.csv.gz\n",
      "Reading november_chunk_65.csv.gz\n",
      "Reading november_chunk_66.csv.gz\n",
      "Reading november_chunk_67.csv.gz\n",
      "Reading november_chunk_68.csv.gz\n",
      "Reading november_chunk_69.csv.gz\n",
      "Reading november_chunk_7.csv.gz\n",
      "Reading november_chunk_70.csv.gz\n",
      "Reading november_chunk_71.csv.gz\n",
      "Reading november_chunk_72.csv.gz\n",
      "Reading november_chunk_73.csv.gz\n",
      "Reading november_chunk_74.csv.gz\n",
      "Reading november_chunk_75.csv.gz\n",
      "Reading november_chunk_76.csv.gz\n",
      "Reading november_chunk_77.csv.gz\n",
      "Reading november_chunk_78.csv.gz\n",
      "Reading november_chunk_79.csv.gz\n",
      "Reading november_chunk_8.csv.gz\n",
      "Reading november_chunk_80.csv.gz\n",
      "Reading november_chunk_81.csv.gz\n",
      "Reading november_chunk_82.csv.gz\n",
      "Reading november_chunk_83.csv.gz\n",
      "Reading november_chunk_84.csv.gz\n",
      "Reading november_chunk_85.csv.gz\n",
      "Reading november_chunk_86.csv.gz\n",
      "Reading november_chunk_87.csv.gz\n",
      "Reading november_chunk_88.csv.gz\n",
      "Reading november_chunk_89.csv.gz\n",
      "Reading november_chunk_9.csv.gz\n",
      "Reading november_chunk_90.csv.gz\n",
      "Reading november_chunk_91.csv.gz\n",
      "Reading november_chunk_92.csv.gz\n",
      "Reading november_chunk_93.csv.gz\n",
      "Reading november_chunk_94.csv.gz\n",
      "Reading november_chunk_95.csv.gz\n",
      "Reading november_chunk_96.csv.gz\n",
      "Reading november_chunk_97.csv.gz\n",
      "Reading november_chunk_98.csv.gz\n",
      "Reading november_chunk_99.csv.gz\n"
     ]
    },
    {
     "name": "stderr",
     "output_type": "stream",
     "text": [
      "C:\\Users\\kpale\\AppData\\Local\\Temp\\ipykernel_58212\\3966090209.py:23: FutureWarning: The behavior of DataFrame concatenation with empty or all-NA entries is deprecated. In a future version, this will no longer exclude empty or all-NA columns when determining the result dtypes. To retain the old behavior, exclude the relevant entries before the concat operation.\n",
      "  combined_df = pd.concat(chunks, ignore_index=True)\n"
     ]
    },
    {
     "name": "stdout",
     "output_type": "stream",
     "text": [
      "Готово! Сохранено в: ./Data\\combined_tweets.csv\n"
     ]
    }
   ],
   "source": [
    "from datetime import datetime\n",
    "\n",
    "base_path = \"./Data\"\n",
    "\n",
    "output_path = os.path.join(base_path,\"combined_tweets.csv\")\n",
    "chunks = []\n",
    "\n",
    "\n",
    "# Iterating through all *.csv.gz\n",
    "all_files = []\n",
    "for root, dirs, files in os.walk(base_path):\n",
    "    for file in files:\n",
    "        if file.endswith(\".csv.gz\"):\n",
    "            print(f'Reading {file}')\n",
    "            df = pd.read_csv(os.path.join(base_path,file), compression=\"gzip\", low_memory=False)\n",
    "            df = df[(pd.to_datetime(df['date'])>=datetime(2024,11,3)) & (pd.to_datetime(df['date'])<=datetime(2024,11,7))]\n",
    "            chunks.append(df)\n",
    "\n",
    "# Cincating\n",
    "combined_df = pd.concat(chunks, ignore_index=True)\n",
    "\n",
    "# Saving to combined df\n",
    "combined_df.to_csv(output_path, index=False)\n",
    "print(f\"Готово! Сохранено в: {output_path}\")\n"
   ]
  },
  {
   "cell_type": "code",
   "execution_count": 7,
   "id": "095c5e55",
   "metadata": {},
   "outputs": [
    {
     "ename": "NameError",
     "evalue": "name 'combined_df' is not defined",
     "output_type": "error",
     "traceback": [
      "\u001b[1;31m---------------------------------------------------------------------------\u001b[0m",
      "\u001b[1;31mNameError\u001b[0m                                 Traceback (most recent call last)",
      "Cell \u001b[1;32mIn[7], line 1\u001b[0m\n\u001b[1;32m----> 1\u001b[0m \u001b[43mcombined_df\u001b[49m\u001b[38;5;241m.\u001b[39miloc[\u001b[38;5;241m0\u001b[39m]\u001b[38;5;241m.\u001b[39muser\n",
      "\u001b[1;31mNameError\u001b[0m: name 'combined_df' is not defined"
     ]
    }
   ],
   "source": [
    "combined_df.iloc[0].user"
   ]
  },
  {
   "cell_type": "code",
   "execution_count": 3,
   "id": "cbb5fa53",
   "metadata": {},
   "outputs": [
    {
     "data": {
      "text/plain": [
       "268121"
      ]
     },
     "execution_count": 3,
     "metadata": {},
     "output_type": "execute_result"
    }
   ],
   "source": [
    "tweets = pd.read_csv(r'./Data/combined_tweets_lemmatized_with_lang_and_sentiment.csv')#combined_df#pd.read_csv(r'./Data/part_39/tweets_lemmatized.csv')#pd.concat([df1,df2], ignore_index=True)\n",
    "len(tweets)"
   ]
  },
  {
   "cell_type": "code",
   "execution_count": 9,
   "id": "e8e57bbf",
   "metadata": {},
   "outputs": [
    {
     "data": {
      "text/plain": [
       "date\n",
       "2024-11-07    263792\n",
       "2024-11-06     70440\n",
       "2024-11-05      2461\n",
       "2024-11-03      1897\n",
       "2024-11-04      1520\n",
       "Name: count, dtype: int64"
      ]
     },
     "execution_count": 9,
     "metadata": {},
     "output_type": "execute_result"
    }
   ],
   "source": [
    "tweets['date'].value_counts()"
   ]
  },
  {
   "cell_type": "code",
   "execution_count": 4,
   "id": "6e8e28ea",
   "metadata": {},
   "outputs": [],
   "source": [
    "tweets['datetime'] = pd.to_datetime(tweets['epoch'], unit='s')\n",
    "tweets['tweet_hour'] = tweets['datetime'].dt.floor('h')"
   ]
  },
  {
   "cell_type": "code",
   "execution_count": 3,
   "id": "b24eea70",
   "metadata": {},
   "outputs": [
    {
     "data": {
      "text/plain": [
       "0         2024-11-07 05:00:00\n",
       "1         2024-11-07 05:00:00\n",
       "2         2024-11-07 05:00:00\n",
       "3         2024-11-07 05:00:00\n",
       "4         2024-11-07 05:00:00\n",
       "                 ...         \n",
       "340105    2024-11-07 05:00:00\n",
       "340106    2024-11-07 05:00:00\n",
       "340107    2024-11-07 05:00:00\n",
       "340108    2024-11-07 05:00:00\n",
       "340109    2024-11-07 05:00:00\n",
       "Name: tweet_hour, Length: 340110, dtype: object"
      ]
     },
     "execution_count": 3,
     "metadata": {},
     "output_type": "execute_result"
    }
   ],
   "source": [
    "tweets['tweet_hour']"
   ]
  },
  {
   "cell_type": "code",
   "execution_count": null,
   "id": "6d0c7054",
   "metadata": {},
   "outputs": [],
   "source": [
    "import re\n",
    "from datetime import datetime\n",
    "import ast\n",
    "\n",
    "#Replace datetime(...) with ISO-string ---\n",
    "def replace_datetime(match):\n",
    "    dt_args = match.group(1)\n",
    "    try:\n",
    "        #Removing named args (i.e., tzinfo=...)\n",
    "        args = [arg.strip() for arg in dt_args.split(',') if '=' not in arg]\n",
    "        dt = datetime(*map(int, args[:6]))  # Only 6 first positional args\n",
    "        return f'\"{dt.isoformat()}\"'  # Returning as string in quotes\n",
    "    except Exception as e:\n",
    "        print(\"Error when parsing datetime:\", dt_args, e)\n",
    "        return '\"1970-01-01T00:00:00\"'\n",
    "\n",
    "#Safe parsing for the dirty json-string\n",
    "def parse_dirty_json(s):\n",
    "    try:\n",
    "        #Replacing datetime(...) → \"2022-11-11T19:16:00\"\n",
    "        s_clean = re.sub(r\"\\w+\\.datetime\\((.*?)\\)\", replace_datetime, s)\n",
    "\n",
    "        #Converting to python dict\n",
    "        obj = ast.literal_eval(s_clean)\n",
    "        # Reading as JSON\n",
    "        return obj\n",
    "    except Exception as e:\n",
    "        print(\"❌ Error when processing string:\", e)\n",
    "        return None"
   ]
  },
  {
   "cell_type": "code",
   "execution_count": 8,
   "id": "b4210026",
   "metadata": {},
   "outputs": [
    {
     "name": "stderr",
     "output_type": "stream",
     "text": [
      "100%|██████████| 340110/340110 [02:29<00:00, 2282.36it/s]\n"
     ]
    }
   ],
   "source": [
    "tweets['user_clean_json'] = tweets['user'].progress_apply(parse_dirty_json)"
   ]
  },
  {
   "cell_type": "code",
   "execution_count": 9,
   "id": "c275825d",
   "metadata": {},
   "outputs": [
    {
     "name": "stderr",
     "output_type": "stream",
     "text": [
      "100%|██████████| 340110/340110 [00:11<00:00, 28565.55it/s]\n"
     ]
    }
   ],
   "source": [
    "tweets['hashtags_clean'] = tweets.hashtags.progress_apply(lambda x: [y['text'] for y in parse_dirty_json(x)])"
   ]
  },
  {
   "cell_type": "code",
   "execution_count": 10,
   "id": "c3e518d3",
   "metadata": {},
   "outputs": [],
   "source": [
    "tweets['user_id'] = tweets['user_clean_json'].apply(lambda x: x['id'])"
   ]
  },
  {
   "cell_type": "code",
   "execution_count": 10,
   "id": "bf723a78",
   "metadata": {},
   "outputs": [
    {
     "data": {
      "text/plain": [
       "Index(['id', 'username', 'text', 'url', 'epoch', 'retweetedTweet',\n",
       "       'retweetedTweetID', 'retweetedUserID', 'rawContent', 'replyCount',\n",
       "       'retweetCount', 'likeCount', 'quoteCount', 'mentionedUsers', 'links',\n",
       "       'viewCount', 'quotedTweet', 'in_reply_to_screen_name',\n",
       "       'in_reply_to_status_id_str', 'in_reply_to_user_id_str', 'location',\n",
       "       'cash_app_handle', 'user', 'date', 'datetime', 'tweet_hour', 'hashtags',\n",
       "       'user_id', 'clean_text', 'lemmatized'],\n",
       "      dtype='object')"
      ]
     },
     "execution_count": 10,
     "metadata": {},
     "output_type": "execute_result"
    }
   ],
   "source": [
    "tweets.columns"
   ]
  },
  {
   "cell_type": "code",
   "execution_count": 11,
   "id": "3d24f782",
   "metadata": {},
   "outputs": [],
   "source": [
    "tweets = tweets.drop(columns=['0','type',\"media\", \"id_str\", \"lang\", \"conversationId\", \"conversationIdStr\", \"hashtags\", \"user_clean_json\"])"
   ]
  },
  {
   "cell_type": "code",
   "execution_count": 12,
   "id": "bc22bd79",
   "metadata": {},
   "outputs": [],
   "source": [
    "tweets.rename(columns={'hashtags_clean': 'hashtags'}, inplace=True)"
   ]
  },
  {
   "cell_type": "code",
   "execution_count": null,
   "id": "327f92de",
   "metadata": {},
   "outputs": [],
   "source": [
    "import re\n",
    "def clean_text(text):\n",
    "    text = re.sub(r\"http\\S+\", \"\", text)        # removing links\n",
    "    text = re.sub(r\"@\\w+\", \"\", text)           # removing tags\n",
    "    text = re.sub(r\"#\\w+\", \"\", text)           # removing hashtags\n",
    "    text = re.sub(r\"[^\\w\\s]\", \"\", text)        # removing punctuation\n",
    "    text = re.sub(r\"\\d+\", \"\", text)            # removing numbers\n",
    "    text = text.lower().strip()                # lowercase and removing spaces\n",
    "    return text"
   ]
  },
  {
   "cell_type": "code",
   "execution_count": 14,
   "id": "697c3fbe",
   "metadata": {},
   "outputs": [],
   "source": [
    "tweets[\"clean_text\"] = tweets[\"text\"].astype(str).apply(clean_text)"
   ]
  },
  {
   "cell_type": "code",
   "execution_count": 16,
   "id": "9cd477c4",
   "metadata": {},
   "outputs": [],
   "source": [
    "import spacy\n",
    "nlp = spacy.load(\"en_core_web_sm\", disable=[\"parser\", \"ner\"])"
   ]
  },
  {
   "cell_type": "code",
   "execution_count": 17,
   "id": "1686d9e8",
   "metadata": {},
   "outputs": [],
   "source": [
    "def lemmatize(text):\n",
    "    doc = nlp(text)\n",
    "    return \" \".join([token.lemma_ for token in doc if not token.is_stop])"
   ]
  },
  {
   "cell_type": "code",
   "execution_count": null,
   "id": "f0ad83a9",
   "metadata": {},
   "outputs": [
    {
     "name": "stderr",
     "output_type": "stream",
     "text": [
      "  0%|          | 0/340110 [00:00<?, ?it/s]"
     ]
    },
    {
     "name": "stderr",
     "output_type": "stream",
     "text": [
      "100%|██████████| 340110/340110 [26:44<00:00, 211.93it/s] \n"
     ]
    }
   ],
   "source": [
    "lemmatized_texts = []\n",
    "for doc in tqdm(nlp.pipe(tweets[\"clean_text\"], batch_size=1000, n_process=1), total=len(tweets)):\n",
    "    lemmatized_texts.append(\" \".join([token.lemma_ for token in doc if not token.is_stop]))\n",
    "\n",
    "tweets[\"lemmatized\"] = lemmatized_texts\n"
   ]
  },
  {
   "cell_type": "code",
   "execution_count": null,
   "id": "7e701c8f",
   "metadata": {},
   "outputs": [],
   "source": [
    "tweets = tweets.dropna(subset=[\"lemmatized\"])  # removing rows with no text"
   ]
  },
  {
   "cell_type": "code",
   "execution_count": 20,
   "id": "19fa8a66",
   "metadata": {},
   "outputs": [],
   "source": [
    "len(tweets)\n",
    "tweets.to_csv(r'./Data/combined_tweets_lemmatized.csv',index=False)"
   ]
  },
  {
   "cell_type": "code",
   "execution_count": 11,
   "id": "b4c8ff71",
   "metadata": {},
   "outputs": [
    {
     "name": "stderr",
     "output_type": "stream",
     "text": [
      "  0%|          | 0/340110 [00:00<?, ?it/s]"
     ]
    },
    {
     "name": "stderr",
     "output_type": "stream",
     "text": [
      "100%|██████████| 340110/340110 [07:08<00:00, 794.14it/s]\n"
     ]
    }
   ],
   "source": [
    "import langid\n",
    "from tqdm import tqdm\n",
    "tqdm.pandas()\n",
    "\n",
    "tweets[\"lang\"] = tweets[\"text\"].progress_apply(lambda x: langid.classify(x)[0] if isinstance(x, str) else None)"
   ]
  },
  {
   "cell_type": "code",
   "execution_count": 12,
   "id": "b286716c",
   "metadata": {},
   "outputs": [
    {
     "data": {
      "text/plain": [
       "lang\n",
       "en    268121\n",
       "es     22008\n",
       "fr     10214\n",
       "pt      5357\n",
       "de      3389\n",
       "       ...  \n",
       "mn         3\n",
       "as         2\n",
       "kk         1\n",
       "be         1\n",
       "mk         1\n",
       "Name: count, Length: 97, dtype: int64"
      ]
     },
     "execution_count": 12,
     "metadata": {},
     "output_type": "execute_result"
    }
   ],
   "source": [
    "tweets['lang'].value_counts()"
   ]
  },
  {
   "cell_type": "code",
   "execution_count": 13,
   "id": "067b802a",
   "metadata": {},
   "outputs": [],
   "source": [
    "# Фильтруем только английские\n",
    "tweets = tweets[tweets[\"lang\"] == \"en\"]"
   ]
  },
  {
   "cell_type": "code",
   "execution_count": 14,
   "id": "9b698bef",
   "metadata": {},
   "outputs": [
    {
     "name": "stderr",
     "output_type": "stream",
     "text": [
      "[nltk_data] Downloading package vader_lexicon to\n",
      "[nltk_data]     C:\\Users\\kpale\\AppData\\Roaming\\nltk_data...\n",
      "[nltk_data]   Package vader_lexicon is already up-to-date!\n"
     ]
    },
    {
     "data": {
      "text/plain": [
       "True"
      ]
     },
     "execution_count": 14,
     "metadata": {},
     "output_type": "execute_result"
    }
   ],
   "source": [
    "import nltk\n",
    "nltk.download(\"vader_lexicon\")"
   ]
  },
  {
   "cell_type": "code",
   "execution_count": 15,
   "id": "4a1a2448",
   "metadata": {},
   "outputs": [
    {
     "name": "stderr",
     "output_type": "stream",
     "text": [
      "100%|██████████| 268121/268121 [00:00<00:00, 2475660.11it/s]\n"
     ]
    }
   ],
   "source": [
    "from nltk.sentiment.vader import SentimentIntensityAnalyzer\n",
    "sid = SentimentIntensityAnalyzer()\n",
    "def get_sentiment(text):\n",
    "    score = sid.polarity_scores(text)[\"compound\"]\n",
    "    if score > 0.1:\n",
    "        return \"positive\"\n",
    "    elif score < -0.1:\n",
    "        return \"negative\"\n",
    "    else:\n",
    "        return \"neutral\"\n",
    "\n",
    "tweets[\"sentiment\"] = tqdm(tweets[\"lemmatized\"].astype(str).apply(get_sentiment), total = len(tweets))"
   ]
  },
  {
   "cell_type": "code",
   "execution_count": 16,
   "id": "097e0382",
   "metadata": {},
   "outputs": [],
   "source": [
    "tweets.to_csv(r'./Data/combined_tweets_lemmatized_with_lang_and_sentiment.csv',index=False)"
   ]
  },
  {
   "cell_type": "code",
   "execution_count": 4,
   "id": "e6af627c",
   "metadata": {},
   "outputs": [],
   "source": [
    "import pandas as pd\n",
    "tweets = pd.read_csv(r'./Data/combined_tweets_lemmatized_with_lang_and_sentiment.csv')"
   ]
  },
  {
   "cell_type": "code",
   "execution_count": 5,
   "id": "685fdfea",
   "metadata": {},
   "outputs": [
    {
     "data": {
      "text/html": [
       "<div>\n",
       "<style scoped>\n",
       "    .dataframe tbody tr th:only-of-type {\n",
       "        vertical-align: middle;\n",
       "    }\n",
       "\n",
       "    .dataframe tbody tr th {\n",
       "        vertical-align: top;\n",
       "    }\n",
       "\n",
       "    .dataframe thead th {\n",
       "        text-align: right;\n",
       "    }\n",
       "</style>\n",
       "<table border=\"1\" class=\"dataframe\">\n",
       "  <thead>\n",
       "    <tr style=\"text-align: right;\">\n",
       "      <th></th>\n",
       "      <th>id</th>\n",
       "      <th>username</th>\n",
       "      <th>text</th>\n",
       "      <th>url</th>\n",
       "      <th>epoch</th>\n",
       "      <th>retweetedTweet</th>\n",
       "      <th>retweetedTweetID</th>\n",
       "      <th>retweetedUserID</th>\n",
       "      <th>rawContent</th>\n",
       "      <th>replyCount</th>\n",
       "      <th>...</th>\n",
       "      <th>user</th>\n",
       "      <th>date</th>\n",
       "      <th>datetime</th>\n",
       "      <th>tweet_hour</th>\n",
       "      <th>hashtags</th>\n",
       "      <th>user_id</th>\n",
       "      <th>clean_text</th>\n",
       "      <th>lemmatized</th>\n",
       "      <th>lang</th>\n",
       "      <th>sentiment</th>\n",
       "    </tr>\n",
       "  </thead>\n",
       "  <tbody>\n",
       "    <tr>\n",
       "      <th>0</th>\n",
       "      <td>1.854393e+18</td>\n",
       "      <td>shehuabraham2</td>\n",
       "      <td>@ivankatrumpo Yes\\nIn far does that try to kil...</td>\n",
       "      <td>https://twitter.com/shehuabraham2/status/18543...</td>\n",
       "      <td>1.730957e+09</td>\n",
       "      <td>False</td>\n",
       "      <td>NaN</td>\n",
       "      <td>NaN</td>\n",
       "      <td>@ivankatrumpo Yes\\nIn far does that try to kil...</td>\n",
       "      <td>0.0</td>\n",
       "      <td>...</td>\n",
       "      <td>{'id': 1591147489763131392, 'id_str': '1591147...</td>\n",
       "      <td>2024-11-07</td>\n",
       "      <td>2024-11-07 05:18:00</td>\n",
       "      <td>2024-11-07 05:00:00</td>\n",
       "      <td>[]</td>\n",
       "      <td>1591147489763131392</td>\n",
       "      <td>yes\\nin far does that try to killed daddy dona...</td>\n",
       "      <td>yes \\n far try kill daddy donald trump arrest ...</td>\n",
       "      <td>en</td>\n",
       "      <td>negative</td>\n",
       "    </tr>\n",
       "    <tr>\n",
       "      <th>1</th>\n",
       "      <td>1.854393e+18</td>\n",
       "      <td>RPollam900</td>\n",
       "      <td>Over time, Southern whites increasingly shifte...</td>\n",
       "      <td>https://twitter.com/RPollam900/status/18543928...</td>\n",
       "      <td>1.730957e+09</td>\n",
       "      <td>False</td>\n",
       "      <td>NaN</td>\n",
       "      <td>NaN</td>\n",
       "      <td>Over time, Southern whites increasingly shifte...</td>\n",
       "      <td>1.0</td>\n",
       "      <td>...</td>\n",
       "      <td>{'id': 1507777504370593795, 'id_str': '1507777...</td>\n",
       "      <td>2024-11-07</td>\n",
       "      <td>2024-11-07 05:18:00</td>\n",
       "      <td>2024-11-07 05:00:00</td>\n",
       "      <td>[]</td>\n",
       "      <td>1507777504370593795</td>\n",
       "      <td>over time southern whites increasingly shifted...</td>\n",
       "      <td>time southern white increasingly shift republi...</td>\n",
       "      <td>en</td>\n",
       "      <td>positive</td>\n",
       "    </tr>\n",
       "    <tr>\n",
       "      <th>2</th>\n",
       "      <td>1.854393e+18</td>\n",
       "      <td>RPollam900</td>\n",
       "      <td>This led to a \"Southern Strategy,\" where the R...</td>\n",
       "      <td>https://twitter.com/RPollam900/status/18543928...</td>\n",
       "      <td>1.730957e+09</td>\n",
       "      <td>False</td>\n",
       "      <td>NaN</td>\n",
       "      <td>NaN</td>\n",
       "      <td>This led to a \"Southern Strategy,\" where the R...</td>\n",
       "      <td>1.0</td>\n",
       "      <td>...</td>\n",
       "      <td>{'id': 1507777504370593795, 'id_str': '1507777...</td>\n",
       "      <td>2024-11-07</td>\n",
       "      <td>2024-11-07 05:18:00</td>\n",
       "      <td>2024-11-07 05:00:00</td>\n",
       "      <td>[]</td>\n",
       "      <td>1507777504370593795</td>\n",
       "      <td>this led to a southern strategy where the repu...</td>\n",
       "      <td>lead southern strategy republican party start ...</td>\n",
       "      <td>en</td>\n",
       "      <td>positive</td>\n",
       "    </tr>\n",
       "    <tr>\n",
       "      <th>3</th>\n",
       "      <td>1.854393e+18</td>\n",
       "      <td>aalianadim</td>\n",
       "      <td>@MarioNawfal A new coalition, a new Republican...</td>\n",
       "      <td>https://twitter.com/aalianadim/status/18543928...</td>\n",
       "      <td>1.730957e+09</td>\n",
       "      <td>False</td>\n",
       "      <td>NaN</td>\n",
       "      <td>NaN</td>\n",
       "      <td>@MarioNawfal A new coalition, a new Republican...</td>\n",
       "      <td>0.0</td>\n",
       "      <td>...</td>\n",
       "      <td>{'id': 1831664841976688640, 'id_str': '1831664...</td>\n",
       "      <td>2024-11-07</td>\n",
       "      <td>2024-11-07 05:18:00</td>\n",
       "      <td>2024-11-07 05:00:00</td>\n",
       "      <td>[]</td>\n",
       "      <td>1831664841976688640</td>\n",
       "      <td>a new coalition a new republican party and ame...</td>\n",
       "      <td>new coalition new republican party america</td>\n",
       "      <td>en</td>\n",
       "      <td>positive</td>\n",
       "    </tr>\n",
       "    <tr>\n",
       "      <th>4</th>\n",
       "      <td>1.854393e+18</td>\n",
       "      <td>Gracefulglimmer</td>\n",
       "      <td>This was a blessing in disguise 😂😂\\n\\nTrump Ka...</td>\n",
       "      <td>https://twitter.com/Gracefulglimmer/status/185...</td>\n",
       "      <td>1.730957e+09</td>\n",
       "      <td>False</td>\n",
       "      <td>NaN</td>\n",
       "      <td>NaN</td>\n",
       "      <td>This was a blessing in disguise 😂😂\\n\\nTrump Ka...</td>\n",
       "      <td>25.0</td>\n",
       "      <td>...</td>\n",
       "      <td>{'id': 1727031484517597184, 'id_str': '1727031...</td>\n",
       "      <td>2024-11-07</td>\n",
       "      <td>2024-11-07 05:17:59</td>\n",
       "      <td>2024-11-07 05:00:00</td>\n",
       "      <td>[]</td>\n",
       "      <td>1727031484517597184</td>\n",
       "      <td>this was a blessing in disguise \\n\\ntrump kama...</td>\n",
       "      <td>blessing disguise \\n\\n trump kamala harris car...</td>\n",
       "      <td>en</td>\n",
       "      <td>positive</td>\n",
       "    </tr>\n",
       "    <tr>\n",
       "      <th>...</th>\n",
       "      <td>...</td>\n",
       "      <td>...</td>\n",
       "      <td>...</td>\n",
       "      <td>...</td>\n",
       "      <td>...</td>\n",
       "      <td>...</td>\n",
       "      <td>...</td>\n",
       "      <td>...</td>\n",
       "      <td>...</td>\n",
       "      <td>...</td>\n",
       "      <td>...</td>\n",
       "      <td>...</td>\n",
       "      <td>...</td>\n",
       "      <td>...</td>\n",
       "      <td>...</td>\n",
       "      <td>...</td>\n",
       "      <td>...</td>\n",
       "      <td>...</td>\n",
       "      <td>...</td>\n",
       "      <td>...</td>\n",
       "      <td>...</td>\n",
       "    </tr>\n",
       "    <tr>\n",
       "      <th>268116</th>\n",
       "      <td>1.854393e+18</td>\n",
       "      <td>RPollam900</td>\n",
       "      <td>...while the Democratic Party has largely beco...</td>\n",
       "      <td>https://twitter.com/RPollam900/status/18543928...</td>\n",
       "      <td>1.730957e+09</td>\n",
       "      <td>False</td>\n",
       "      <td>NaN</td>\n",
       "      <td>NaN</td>\n",
       "      <td>...while the Democratic Party has largely beco...</td>\n",
       "      <td>0.0</td>\n",
       "      <td>...</td>\n",
       "      <td>{'id': 1507777504370593795, 'id_str': '1507777...</td>\n",
       "      <td>2024-11-07</td>\n",
       "      <td>2024-11-07 05:18:02</td>\n",
       "      <td>2024-11-07 05:00:00</td>\n",
       "      <td>[]</td>\n",
       "      <td>1507777504370593795</td>\n",
       "      <td>while the democratic party has largely become ...</td>\n",
       "      <td>democratic party largely advocate civil right ...</td>\n",
       "      <td>en</td>\n",
       "      <td>positive</td>\n",
       "    </tr>\n",
       "    <tr>\n",
       "      <th>268117</th>\n",
       "      <td>1.854393e+18</td>\n",
       "      <td>KaaShu99</td>\n",
       "      <td>@notyour_kainat3 Cangulation Donald trump'</td>\n",
       "      <td>https://twitter.com/KaaShu99/status/1854392847...</td>\n",
       "      <td>1.730957e+09</td>\n",
       "      <td>False</td>\n",
       "      <td>NaN</td>\n",
       "      <td>NaN</td>\n",
       "      <td>@notyour_kainat3 Cangulation Donald trump'</td>\n",
       "      <td>0.0</td>\n",
       "      <td>...</td>\n",
       "      <td>{'id': 1554726121068961793, 'id_str': '1554726...</td>\n",
       "      <td>2024-11-07</td>\n",
       "      <td>2024-11-07 05:18:02</td>\n",
       "      <td>2024-11-07 05:00:00</td>\n",
       "      <td>[]</td>\n",
       "      <td>1554726121068961793</td>\n",
       "      <td>cangulation donald trump</td>\n",
       "      <td>cangulation donald trump</td>\n",
       "      <td>en</td>\n",
       "      <td>neutral</td>\n",
       "    </tr>\n",
       "    <tr>\n",
       "      <th>268118</th>\n",
       "      <td>1.854393e+18</td>\n",
       "      <td>RPollam900</td>\n",
       "      <td>This complex shift of values over time led to ...</td>\n",
       "      <td>https://twitter.com/RPollam900/status/18543928...</td>\n",
       "      <td>1.730957e+09</td>\n",
       "      <td>False</td>\n",
       "      <td>NaN</td>\n",
       "      <td>NaN</td>\n",
       "      <td>This complex shift of values over time led to ...</td>\n",
       "      <td>1.0</td>\n",
       "      <td>...</td>\n",
       "      <td>{'id': 1507777504370593795, 'id_str': '1507777...</td>\n",
       "      <td>2024-11-07</td>\n",
       "      <td>2024-11-07 05:18:02</td>\n",
       "      <td>2024-11-07 05:00:00</td>\n",
       "      <td>[]</td>\n",
       "      <td>1507777504370593795</td>\n",
       "      <td>this complex shift of values over time led to ...</td>\n",
       "      <td>complex shift value time lead current politica...</td>\n",
       "      <td>en</td>\n",
       "      <td>positive</td>\n",
       "    </tr>\n",
       "    <tr>\n",
       "      <th>268119</th>\n",
       "      <td>1.854393e+18</td>\n",
       "      <td>PriyankaLahiri_</td>\n",
       "      <td>The biggest like people are telling themselves...</td>\n",
       "      <td>https://twitter.com/PriyankaLahiri_/status/185...</td>\n",
       "      <td>1.730957e+09</td>\n",
       "      <td>False</td>\n",
       "      <td>NaN</td>\n",
       "      <td>NaN</td>\n",
       "      <td>The biggest like people are telling themselves...</td>\n",
       "      <td>3.0</td>\n",
       "      <td>...</td>\n",
       "      <td>{'id': 47163778, 'id_str': '47163778', 'url': ...</td>\n",
       "      <td>2024-11-07</td>\n",
       "      <td>2024-11-07 05:18:01</td>\n",
       "      <td>2024-11-07 05:00:00</td>\n",
       "      <td>[]</td>\n",
       "      <td>47163778</td>\n",
       "      <td>the biggest like people are telling themselves...</td>\n",
       "      <td>big like people tell kamala harris lose woman ...</td>\n",
       "      <td>en</td>\n",
       "      <td>negative</td>\n",
       "    </tr>\n",
       "    <tr>\n",
       "      <th>268120</th>\n",
       "      <td>1.854393e+18</td>\n",
       "      <td>RPollam900</td>\n",
       "      <td>By the 1980s and beyond, the Republican Party ...</td>\n",
       "      <td>https://twitter.com/RPollam900/status/18543928...</td>\n",
       "      <td>1.730957e+09</td>\n",
       "      <td>False</td>\n",
       "      <td>NaN</td>\n",
       "      <td>NaN</td>\n",
       "      <td>By the 1980s and beyond, the Republican Party ...</td>\n",
       "      <td>1.0</td>\n",
       "      <td>...</td>\n",
       "      <td>{'id': 1507777504370593795, 'id_str': '1507777...</td>\n",
       "      <td>2024-11-07</td>\n",
       "      <td>2024-11-07 05:18:01</td>\n",
       "      <td>2024-11-07 05:00:00</td>\n",
       "      <td>[]</td>\n",
       "      <td>1507777504370593795</td>\n",
       "      <td>by the s and beyond the republican party had s...</td>\n",
       "      <td>s republican party solidify base south take de...</td>\n",
       "      <td>en</td>\n",
       "      <td>positive</td>\n",
       "    </tr>\n",
       "  </tbody>\n",
       "</table>\n",
       "<p>268121 rows × 32 columns</p>\n",
       "</div>"
      ],
      "text/plain": [
       "                  id         username  \\\n",
       "0       1.854393e+18    shehuabraham2   \n",
       "1       1.854393e+18       RPollam900   \n",
       "2       1.854393e+18       RPollam900   \n",
       "3       1.854393e+18       aalianadim   \n",
       "4       1.854393e+18  Gracefulglimmer   \n",
       "...              ...              ...   \n",
       "268116  1.854393e+18       RPollam900   \n",
       "268117  1.854393e+18         KaaShu99   \n",
       "268118  1.854393e+18       RPollam900   \n",
       "268119  1.854393e+18  PriyankaLahiri_   \n",
       "268120  1.854393e+18       RPollam900   \n",
       "\n",
       "                                                     text  \\\n",
       "0       @ivankatrumpo Yes\\nIn far does that try to kil...   \n",
       "1       Over time, Southern whites increasingly shifte...   \n",
       "2       This led to a \"Southern Strategy,\" where the R...   \n",
       "3       @MarioNawfal A new coalition, a new Republican...   \n",
       "4       This was a blessing in disguise 😂😂\\n\\nTrump Ka...   \n",
       "...                                                   ...   \n",
       "268116  ...while the Democratic Party has largely beco...   \n",
       "268117         @notyour_kainat3 Cangulation Donald trump'   \n",
       "268118  This complex shift of values over time led to ...   \n",
       "268119  The biggest like people are telling themselves...   \n",
       "268120  By the 1980s and beyond, the Republican Party ...   \n",
       "\n",
       "                                                      url         epoch  \\\n",
       "0       https://twitter.com/shehuabraham2/status/18543...  1.730957e+09   \n",
       "1       https://twitter.com/RPollam900/status/18543928...  1.730957e+09   \n",
       "2       https://twitter.com/RPollam900/status/18543928...  1.730957e+09   \n",
       "3       https://twitter.com/aalianadim/status/18543928...  1.730957e+09   \n",
       "4       https://twitter.com/Gracefulglimmer/status/185...  1.730957e+09   \n",
       "...                                                   ...           ...   \n",
       "268116  https://twitter.com/RPollam900/status/18543928...  1.730957e+09   \n",
       "268117  https://twitter.com/KaaShu99/status/1854392847...  1.730957e+09   \n",
       "268118  https://twitter.com/RPollam900/status/18543928...  1.730957e+09   \n",
       "268119  https://twitter.com/PriyankaLahiri_/status/185...  1.730957e+09   \n",
       "268120  https://twitter.com/RPollam900/status/18543928...  1.730957e+09   \n",
       "\n",
       "        retweetedTweet  retweetedTweetID  retweetedUserID  \\\n",
       "0                False               NaN              NaN   \n",
       "1                False               NaN              NaN   \n",
       "2                False               NaN              NaN   \n",
       "3                False               NaN              NaN   \n",
       "4                False               NaN              NaN   \n",
       "...                ...               ...              ...   \n",
       "268116           False               NaN              NaN   \n",
       "268117           False               NaN              NaN   \n",
       "268118           False               NaN              NaN   \n",
       "268119           False               NaN              NaN   \n",
       "268120           False               NaN              NaN   \n",
       "\n",
       "                                               rawContent  replyCount  ...  \\\n",
       "0       @ivankatrumpo Yes\\nIn far does that try to kil...         0.0  ...   \n",
       "1       Over time, Southern whites increasingly shifte...         1.0  ...   \n",
       "2       This led to a \"Southern Strategy,\" where the R...         1.0  ...   \n",
       "3       @MarioNawfal A new coalition, a new Republican...         0.0  ...   \n",
       "4       This was a blessing in disguise 😂😂\\n\\nTrump Ka...        25.0  ...   \n",
       "...                                                   ...         ...  ...   \n",
       "268116  ...while the Democratic Party has largely beco...         0.0  ...   \n",
       "268117         @notyour_kainat3 Cangulation Donald trump'         0.0  ...   \n",
       "268118  This complex shift of values over time led to ...         1.0  ...   \n",
       "268119  The biggest like people are telling themselves...         3.0  ...   \n",
       "268120  By the 1980s and beyond, the Republican Party ...         1.0  ...   \n",
       "\n",
       "                                                     user        date  \\\n",
       "0       {'id': 1591147489763131392, 'id_str': '1591147...  2024-11-07   \n",
       "1       {'id': 1507777504370593795, 'id_str': '1507777...  2024-11-07   \n",
       "2       {'id': 1507777504370593795, 'id_str': '1507777...  2024-11-07   \n",
       "3       {'id': 1831664841976688640, 'id_str': '1831664...  2024-11-07   \n",
       "4       {'id': 1727031484517597184, 'id_str': '1727031...  2024-11-07   \n",
       "...                                                   ...         ...   \n",
       "268116  {'id': 1507777504370593795, 'id_str': '1507777...  2024-11-07   \n",
       "268117  {'id': 1554726121068961793, 'id_str': '1554726...  2024-11-07   \n",
       "268118  {'id': 1507777504370593795, 'id_str': '1507777...  2024-11-07   \n",
       "268119  {'id': 47163778, 'id_str': '47163778', 'url': ...  2024-11-07   \n",
       "268120  {'id': 1507777504370593795, 'id_str': '1507777...  2024-11-07   \n",
       "\n",
       "                   datetime           tweet_hour hashtags  \\\n",
       "0       2024-11-07 05:18:00  2024-11-07 05:00:00       []   \n",
       "1       2024-11-07 05:18:00  2024-11-07 05:00:00       []   \n",
       "2       2024-11-07 05:18:00  2024-11-07 05:00:00       []   \n",
       "3       2024-11-07 05:18:00  2024-11-07 05:00:00       []   \n",
       "4       2024-11-07 05:17:59  2024-11-07 05:00:00       []   \n",
       "...                     ...                  ...      ...   \n",
       "268116  2024-11-07 05:18:02  2024-11-07 05:00:00       []   \n",
       "268117  2024-11-07 05:18:02  2024-11-07 05:00:00       []   \n",
       "268118  2024-11-07 05:18:02  2024-11-07 05:00:00       []   \n",
       "268119  2024-11-07 05:18:01  2024-11-07 05:00:00       []   \n",
       "268120  2024-11-07 05:18:01  2024-11-07 05:00:00       []   \n",
       "\n",
       "                    user_id  \\\n",
       "0       1591147489763131392   \n",
       "1       1507777504370593795   \n",
       "2       1507777504370593795   \n",
       "3       1831664841976688640   \n",
       "4       1727031484517597184   \n",
       "...                     ...   \n",
       "268116  1507777504370593795   \n",
       "268117  1554726121068961793   \n",
       "268118  1507777504370593795   \n",
       "268119             47163778   \n",
       "268120  1507777504370593795   \n",
       "\n",
       "                                               clean_text  \\\n",
       "0       yes\\nin far does that try to killed daddy dona...   \n",
       "1       over time southern whites increasingly shifted...   \n",
       "2       this led to a southern strategy where the repu...   \n",
       "3       a new coalition a new republican party and ame...   \n",
       "4       this was a blessing in disguise \\n\\ntrump kama...   \n",
       "...                                                   ...   \n",
       "268116  while the democratic party has largely become ...   \n",
       "268117                           cangulation donald trump   \n",
       "268118  this complex shift of values over time led to ...   \n",
       "268119  the biggest like people are telling themselves...   \n",
       "268120  by the s and beyond the republican party had s...   \n",
       "\n",
       "                                               lemmatized  lang  sentiment  \n",
       "0       yes \\n far try kill daddy donald trump arrest ...    en   negative  \n",
       "1       time southern white increasingly shift republi...    en   positive  \n",
       "2       lead southern strategy republican party start ...    en   positive  \n",
       "3              new coalition new republican party america    en   positive  \n",
       "4       blessing disguise \\n\\n trump kamala harris car...    en   positive  \n",
       "...                                                   ...   ...        ...  \n",
       "268116  democratic party largely advocate civil right ...    en   positive  \n",
       "268117                           cangulation donald trump    en    neutral  \n",
       "268118  complex shift value time lead current politica...    en   positive  \n",
       "268119  big like people tell kamala harris lose woman ...    en   negative  \n",
       "268120  s republican party solidify base south take de...    en   positive  \n",
       "\n",
       "[268121 rows x 32 columns]"
      ]
     },
     "execution_count": 5,
     "metadata": {},
     "output_type": "execute_result"
    }
   ],
   "source": [
    "tweets"
   ]
  },
  {
   "cell_type": "code",
   "execution_count": null,
   "id": "9ed108da",
   "metadata": {},
   "outputs": [
    {
     "name": "stdout",
     "output_type": "stream",
     "text": [
      "🚀 Starting LDA topic modeling...\n",
      "\n"
     ]
    },
    {
     "name": "stderr",
     "output_type": "stream",
     "text": [
      "Training models:   0%|          | 0/8 [00:00<?, ?model/s]"
     ]
    },
    {
     "name": "stdout",
     "output_type": "stream",
     "text": [
      "\n",
      "🔹 [2 topics] Initializing CountVectorizer...\n"
     ]
    },
    {
     "name": "stderr",
     "output_type": "stream",
     "text": [
      "Training models:   0%|          | 0/8 [00:03<?, ?model/s]"
     ]
    },
    {
     "name": "stdout",
     "output_type": "stream",
     "text": [
      "   📐 Shape of X: 268121 docs × 10000 features\n",
      "   🚫 Custom stopwords removed: 18\n",
      "   ✅ Remaining vocab: 9982\n",
      "   🔄 Fitting LDA model...\n",
      "iteration: 1 of max_iter: 10\n",
      "iteration: 2 of max_iter: 10\n",
      "iteration: 3 of max_iter: 10\n",
      "iteration: 4 of max_iter: 10\n",
      "iteration: 5 of max_iter: 10\n",
      "iteration: 6 of max_iter: 10\n",
      "iteration: 7 of max_iter: 10\n",
      "iteration: 8 of max_iter: 10\n",
      "iteration: 9 of max_iter: 10\n",
      "iteration: 10 of max_iter: 10\n"
     ]
    },
    {
     "name": "stderr",
     "output_type": "stream",
     "text": [
      "Training models:   0%|          | 0/8 [20:04<?, ?model/s]"
     ]
    },
    {
     "name": "stdout",
     "output_type": "stream",
     "text": [
      "   🧠 Model trained with 2 topics\n"
     ]
    },
    {
     "name": "stderr",
     "output_type": "stream",
     "text": [
      "Training models:  12%|█▎        | 1/8 [24:12<2:49:27, 1452.54s/model]"
     ]
    },
    {
     "name": "stdout",
     "output_type": "stream",
     "text": [
      "   📈 Log-likelihood: -19066409.10 | Perplexity: 1982.95\n",
      "   💾 Saved at index 0\n",
      "\n",
      "🔹 [3 topics] Initializing CountVectorizer...\n"
     ]
    },
    {
     "name": "stderr",
     "output_type": "stream",
     "text": [
      "Training models:  12%|█▎        | 1/8 [24:24<2:49:27, 1452.54s/model]"
     ]
    },
    {
     "name": "stdout",
     "output_type": "stream",
     "text": [
      "   📐 Shape of X: 268121 docs × 10000 features\n",
      "   🚫 Custom stopwords removed: 18\n",
      "   ✅ Remaining vocab: 9982\n",
      "   🔄 Fitting LDA model...\n",
      "iteration: 1 of max_iter: 10\n",
      "iteration: 2 of max_iter: 10\n",
      "iteration: 3 of max_iter: 10\n",
      "iteration: 4 of max_iter: 10\n",
      "iteration: 5 of max_iter: 10\n",
      "iteration: 6 of max_iter: 10\n",
      "iteration: 7 of max_iter: 10\n",
      "iteration: 8 of max_iter: 10\n",
      "iteration: 9 of max_iter: 10\n",
      "iteration: 10 of max_iter: 10\n"
     ]
    },
    {
     "name": "stderr",
     "output_type": "stream",
     "text": [
      "Training models:  12%|█▎        | 1/8 [49:45<2:49:27, 1452.54s/model]"
     ]
    },
    {
     "name": "stdout",
     "output_type": "stream",
     "text": [
      "   🧠 Model trained with 3 topics\n"
     ]
    },
    {
     "name": "stderr",
     "output_type": "stream",
     "text": [
      "Training models:  25%|██▌       | 2/8 [53:46<2:44:11, 1641.89s/model]"
     ]
    },
    {
     "name": "stdout",
     "output_type": "stream",
     "text": [
      "   📈 Log-likelihood: -19023662.62 | Perplexity: 1949.48\n",
      "   💾 Saved at index 1\n",
      "\n",
      "🔹 [4 topics] Initializing CountVectorizer...\n"
     ]
    },
    {
     "name": "stderr",
     "output_type": "stream",
     "text": [
      "Training models:  25%|██▌       | 2/8 [53:54<2:44:11, 1641.89s/model]"
     ]
    },
    {
     "name": "stdout",
     "output_type": "stream",
     "text": [
      "   📐 Shape of X: 268121 docs × 10000 features\n",
      "   🚫 Custom stopwords removed: 18\n",
      "   ✅ Remaining vocab: 9982\n",
      "   🔄 Fitting LDA model...\n",
      "iteration: 1 of max_iter: 10\n",
      "iteration: 2 of max_iter: 10\n",
      "iteration: 3 of max_iter: 10\n",
      "iteration: 4 of max_iter: 10\n",
      "iteration: 5 of max_iter: 10\n",
      "iteration: 6 of max_iter: 10\n",
      "iteration: 7 of max_iter: 10\n",
      "iteration: 8 of max_iter: 10\n",
      "iteration: 9 of max_iter: 10\n",
      "iteration: 10 of max_iter: 10\n"
     ]
    },
    {
     "name": "stderr",
     "output_type": "stream",
     "text": [
      "Training models:  25%|██▌       | 2/8 [1:04:29<2:44:11, 1641.89s/model]"
     ]
    },
    {
     "name": "stdout",
     "output_type": "stream",
     "text": [
      "   🧠 Model trained with 4 topics\n"
     ]
    },
    {
     "name": "stderr",
     "output_type": "stream",
     "text": [
      "Training models:  38%|███▊      | 3/8 [1:06:22<1:43:06, 1237.33s/model]"
     ]
    },
    {
     "name": "stdout",
     "output_type": "stream",
     "text": [
      "   📈 Log-likelihood: -19009925.83 | Perplexity: 1938.85\n",
      "   💾 Saved at index 2\n",
      "\n",
      "🔹 [5 topics] Initializing CountVectorizer...\n"
     ]
    },
    {
     "name": "stderr",
     "output_type": "stream",
     "text": [
      "Training models:  38%|███▊      | 3/8 [1:06:29<1:43:06, 1237.33s/model]"
     ]
    },
    {
     "name": "stdout",
     "output_type": "stream",
     "text": [
      "   📐 Shape of X: 268121 docs × 10000 features\n",
      "   🚫 Custom stopwords removed: 18\n",
      "   ✅ Remaining vocab: 9982\n",
      "   🔄 Fitting LDA model...\n",
      "iteration: 1 of max_iter: 10\n",
      "iteration: 2 of max_iter: 10\n",
      "iteration: 3 of max_iter: 10\n",
      "iteration: 4 of max_iter: 10\n",
      "iteration: 5 of max_iter: 10\n",
      "iteration: 6 of max_iter: 10\n",
      "iteration: 7 of max_iter: 10\n",
      "iteration: 8 of max_iter: 10\n",
      "iteration: 9 of max_iter: 10\n",
      "iteration: 10 of max_iter: 10\n"
     ]
    },
    {
     "name": "stderr",
     "output_type": "stream",
     "text": [
      "Training models:  38%|███▊      | 3/8 [1:15:47<1:43:06, 1237.33s/model]"
     ]
    },
    {
     "name": "stdout",
     "output_type": "stream",
     "text": [
      "   🧠 Model trained with 5 topics\n"
     ]
    },
    {
     "name": "stderr",
     "output_type": "stream",
     "text": [
      "Training models:  50%|█████     | 4/8 [1:17:00<1:06:42, 1000.52s/model]"
     ]
    },
    {
     "name": "stdout",
     "output_type": "stream",
     "text": [
      "   📈 Log-likelihood: -19010252.49 | Perplexity: 1939.10\n",
      "   💾 Saved at index 3\n",
      "\n",
      "🔹 [6 topics] Initializing CountVectorizer...\n"
     ]
    },
    {
     "name": "stderr",
     "output_type": "stream",
     "text": [
      "Training models:  50%|█████     | 4/8 [1:17:04<1:06:42, 1000.52s/model]"
     ]
    },
    {
     "name": "stdout",
     "output_type": "stream",
     "text": [
      "   📐 Shape of X: 268121 docs × 10000 features\n",
      "   🚫 Custom stopwords removed: 18\n",
      "   ✅ Remaining vocab: 9982\n",
      "   🔄 Fitting LDA model...\n",
      "iteration: 1 of max_iter: 10\n",
      "iteration: 2 of max_iter: 10\n",
      "iteration: 3 of max_iter: 10\n",
      "iteration: 4 of max_iter: 10\n",
      "iteration: 5 of max_iter: 10\n",
      "iteration: 6 of max_iter: 10\n",
      "iteration: 7 of max_iter: 10\n",
      "iteration: 8 of max_iter: 10\n",
      "iteration: 9 of max_iter: 10\n",
      "iteration: 10 of max_iter: 10\n"
     ]
    },
    {
     "name": "stderr",
     "output_type": "stream",
     "text": [
      "Training models:  50%|█████     | 4/8 [1:26:22<1:06:42, 1000.52s/model]"
     ]
    },
    {
     "name": "stdout",
     "output_type": "stream",
     "text": [
      "   🧠 Model trained with 6 topics\n"
     ]
    },
    {
     "name": "stderr",
     "output_type": "stream",
     "text": [
      "Training models:  62%|██████▎   | 5/8 [1:28:47<44:43, 894.61s/model]   "
     ]
    },
    {
     "name": "stdout",
     "output_type": "stream",
     "text": [
      "   📈 Log-likelihood: -19031078.74 | Perplexity: 1955.25\n",
      "   💾 Saved at index 4\n",
      "\n",
      "🔹 [7 topics] Initializing CountVectorizer...\n"
     ]
    },
    {
     "name": "stderr",
     "output_type": "stream",
     "text": [
      "Training models:  62%|██████▎   | 5/8 [1:28:54<44:43, 894.61s/model]"
     ]
    },
    {
     "name": "stdout",
     "output_type": "stream",
     "text": [
      "   📐 Shape of X: 268121 docs × 10000 features\n",
      "   🚫 Custom stopwords removed: 18\n",
      "   ✅ Remaining vocab: 9982\n",
      "   🔄 Fitting LDA model...\n",
      "iteration: 1 of max_iter: 10\n",
      "iteration: 2 of max_iter: 10\n",
      "iteration: 3 of max_iter: 10\n",
      "iteration: 4 of max_iter: 10\n",
      "iteration: 5 of max_iter: 10\n",
      "iteration: 6 of max_iter: 10\n",
      "iteration: 7 of max_iter: 10\n",
      "iteration: 8 of max_iter: 10\n",
      "iteration: 9 of max_iter: 10\n",
      "iteration: 10 of max_iter: 10\n"
     ]
    },
    {
     "name": "stderr",
     "output_type": "stream",
     "text": [
      "Training models:  62%|██████▎   | 5/8 [1:38:38<44:43, 894.61s/model]"
     ]
    },
    {
     "name": "stdout",
     "output_type": "stream",
     "text": [
      "   🧠 Model trained with 7 topics\n"
     ]
    },
    {
     "name": "stderr",
     "output_type": "stream",
     "text": [
      "Training models:  75%|███████▌  | 6/8 [1:40:07<27:23, 821.87s/model]"
     ]
    },
    {
     "name": "stdout",
     "output_type": "stream",
     "text": [
      "   📈 Log-likelihood: -19040505.52 | Perplexity: 1962.60\n",
      "   💾 Saved at index 5\n",
      "\n",
      "🔹 [8 topics] Initializing CountVectorizer...\n"
     ]
    },
    {
     "name": "stderr",
     "output_type": "stream",
     "text": [
      "Training models:  75%|███████▌  | 6/8 [1:40:12<27:23, 821.87s/model]"
     ]
    },
    {
     "name": "stdout",
     "output_type": "stream",
     "text": [
      "   📐 Shape of X: 268121 docs × 10000 features\n",
      "   🚫 Custom stopwords removed: 18\n",
      "   ✅ Remaining vocab: 9982\n",
      "   🔄 Fitting LDA model...\n",
      "iteration: 1 of max_iter: 10\n",
      "iteration: 2 of max_iter: 10\n",
      "iteration: 3 of max_iter: 10\n",
      "iteration: 4 of max_iter: 10\n",
      "iteration: 5 of max_iter: 10\n",
      "iteration: 6 of max_iter: 10\n",
      "iteration: 7 of max_iter: 10\n",
      "iteration: 8 of max_iter: 10\n",
      "iteration: 9 of max_iter: 10\n",
      "iteration: 10 of max_iter: 10\n"
     ]
    },
    {
     "name": "stderr",
     "output_type": "stream",
     "text": [
      "Training models:  75%|███████▌  | 6/8 [8:58:21<27:23, 821.87s/model]"
     ]
    },
    {
     "name": "stdout",
     "output_type": "stream",
     "text": [
      "   🧠 Model trained with 8 topics\n"
     ]
    },
    {
     "name": "stderr",
     "output_type": "stream",
     "text": [
      "Training models:  88%|████████▊ | 7/8 [9:00:11<2:33:05, 9185.25s/model]"
     ]
    },
    {
     "name": "stdout",
     "output_type": "stream",
     "text": [
      "   📈 Log-likelihood: -19079077.63 | Perplexity: 1992.98\n",
      "   💾 Saved at index 6\n",
      "\n",
      "🔹 [9 topics] Initializing CountVectorizer...\n"
     ]
    },
    {
     "name": "stderr",
     "output_type": "stream",
     "text": [
      "Training models:  88%|████████▊ | 7/8 [9:00:18<2:33:05, 9185.25s/model]"
     ]
    },
    {
     "name": "stdout",
     "output_type": "stream",
     "text": [
      "   📐 Shape of X: 268121 docs × 10000 features\n",
      "   🚫 Custom stopwords removed: 18\n",
      "   ✅ Remaining vocab: 9982\n",
      "   🔄 Fitting LDA model...\n",
      "iteration: 1 of max_iter: 10\n",
      "iteration: 2 of max_iter: 10\n",
      "iteration: 3 of max_iter: 10\n",
      "iteration: 4 of max_iter: 10\n",
      "iteration: 5 of max_iter: 10\n",
      "iteration: 6 of max_iter: 10\n",
      "iteration: 7 of max_iter: 10\n",
      "iteration: 8 of max_iter: 10\n",
      "iteration: 9 of max_iter: 10\n",
      "iteration: 10 of max_iter: 10\n"
     ]
    },
    {
     "name": "stderr",
     "output_type": "stream",
     "text": [
      "Training models:  88%|████████▊ | 7/8 [9:15:19<2:33:05, 9185.25s/model]"
     ]
    },
    {
     "name": "stdout",
     "output_type": "stream",
     "text": [
      "   🧠 Model trained with 9 topics\n"
     ]
    },
    {
     "name": "stderr",
     "output_type": "stream",
     "text": [
      "Training models: 100%|██████████| 8/8 [9:18:52<00:00, 4191.51s/model]  "
     ]
    },
    {
     "name": "stdout",
     "output_type": "stream",
     "text": [
      "   📈 Log-likelihood: -19081590.79 | Perplexity: 1994.97\n",
      "   💾 Saved at index 7\n"
     ]
    },
    {
     "name": "stderr",
     "output_type": "stream",
     "text": [
      "\n"
     ]
    }
   ],
   "source": [
    "from sklearn.feature_extraction.text import CountVectorizer\n",
    "from sklearn.decomposition import LatentDirichletAllocation\n",
    "from tqdm import tqdm\n",
    "import numpy as np\n",
    "\n",
    "tweets[\"lemmatized\"] = tweets[\"lemmatized\"].fillna(\"\").astype(str)\n",
    "\n",
    "\n",
    "custom_stopwords = [\n",
    "    \"people\", \"thing\", \"know\", \"want\", \"think\", \"say\", \"said\",\n",
    "    \"election\", \"vote\", \"voting\", \"joe\", \"biden\", \"donald\", \"trump\", \"campaign\",\n",
    "    \"harris\", \"kamala\", \"election\", \"win\", \"vance\"\n",
    "]\n",
    "\n",
    "max_features = 10000\n",
    "topic_range = range(2, 10)\n",
    "\n",
    "\n",
    "lda_models = []\n",
    "vectorizers = []\n",
    "X_matrices = []\n",
    "filtered_words_list = []\n",
    "log_likelihoods = []\n",
    "perplexities = []\n",
    "\n",
    "tqdm.write(\"🚀 Starting LDA topic modeling...\\n\")\n",
    "\n",
    "for n_topics in tqdm(topic_range, desc=\"Training models\", unit=\"model\"):\n",
    "    tqdm.write(f\"\\n🔹 [{n_topics} topics] Initializing CountVectorizer...\")\n",
    "\n",
    "    vectorizer = CountVectorizer(max_features=max_features, stop_words='english')\n",
    "    X = vectorizer.fit_transform(tweets['lemmatized'])\n",
    "    words = vectorizer.get_feature_names_out()\n",
    "\n",
    "    tqdm.write(f\"   📐 Shape of X: {X.shape[0]} docs × {X.shape[1]} features\")\n",
    "\n",
    "    word_mask = [w not in custom_stopwords for w in words]\n",
    "    X_filtered = X[:, word_mask]\n",
    "    words_filtered = words[word_mask]\n",
    "\n",
    "    tqdm.write(f\"   🚫 Custom stopwords removed: {np.sum(np.logical_not(word_mask))}\")\n",
    "    tqdm.write(f\"   ✅ Remaining vocab: {X_filtered.shape[1]}\")\n",
    "\n",
    "    lda = LatentDirichletAllocation(n_components=n_topics,\n",
    "        max_iter=10,\n",
    "        random_state=42,\n",
    "        verbose=1,\n",
    "        learning_method='batch')\n",
    "    tqdm.write(\"   🔄 Fitting LDA model...\")\n",
    "    lda.fit(X_filtered)\n",
    "\n",
    "    tqdm.write(f\"   🧠 Model trained with {n_topics} topics\")\n",
    "\n",
    "    # 📊 Saving metrics\n",
    "    ll = lda.score(X_filtered)\n",
    "    perp = lda.perplexity(X_filtered)\n",
    "    log_likelihoods.append(ll)\n",
    "    perplexities.append(perp)\n",
    "    tqdm.write(f\"   📈 Log-likelihood: {ll:.2f} | Perplexity: {perp:.2f}\")\n",
    "\n",
    "    # 💾 Saving other data\n",
    "    lda_models.append(lda)\n",
    "    vectorizers.append(vectorizer)\n",
    "    X_matrices.append(X_filtered)\n",
    "    filtered_words_list.append(words_filtered)\n",
    "    tqdm.write(f\"   💾 Saved at index {n_topics - topic_range.start}\")\n",
    "\n"
   ]
  },
  {
   "cell_type": "code",
   "execution_count": null,
   "id": "d4a5f544",
   "metadata": {},
   "outputs": [
    {
     "name": "stderr",
     "output_type": "stream",
     "text": [
      "C:\\Users\\kpale\\AppData\\Local\\Temp\\ipykernel_15488\\239054262.py:17: UserWarning: Glyph 128201 (\\N{CHART WITH DOWNWARDS TREND}) missing from font(s) DejaVu Sans.\n",
      "  plt.tight_layout()\n",
      "C:\\Users\\kpale\\AppData\\Local\\Temp\\ipykernel_15488\\239054262.py:17: UserWarning: Glyph 128200 (\\N{CHART WITH UPWARDS TREND}) missing from font(s) DejaVu Sans.\n",
      "  plt.tight_layout()\n",
      "c:\\Code\\US Election sentiment\\.venv\\lib\\site-packages\\IPython\\core\\pylabtools.py:170: UserWarning: Glyph 128201 (\\N{CHART WITH DOWNWARDS TREND}) missing from font(s) DejaVu Sans.\n",
      "  fig.canvas.print_figure(bytes_io, **kw)\n",
      "c:\\Code\\US Election sentiment\\.venv\\lib\\site-packages\\IPython\\core\\pylabtools.py:170: UserWarning: Glyph 128200 (\\N{CHART WITH UPWARDS TREND}) missing from font(s) DejaVu Sans.\n",
      "  fig.canvas.print_figure(bytes_io, **kw)\n"
     ]
    },
    {
     "data": {
      "image/png": "[encoded data removed]",
      "text/plain": [
       "<Figure size 1200x500 with 2 Axes>"
      ]
     },
     "metadata": {},
     "output_type": "display_data"
    }
   ],
   "source": [
    "# Results visualization\n",
    "import matplotlib.pyplot as plt\n",
    "plt.figure(figsize=(12, 5))\n",
    "\n",
    "plt.subplot(1, 2, 1)\n",
    "plt.plot(topic_range, perplexities, marker='o')\n",
    "plt.title(\"📉 Perplexity vs N of topics\")\n",
    "plt.xlabel(\"N of topics\")\n",
    "plt.ylabel(\"Perplexity\")\n",
    "\n",
    "plt.subplot(1, 2, 2)\n",
    "plt.plot(topic_range, log_likelihoods, marker='o')\n",
    "plt.title(\"📈 Log Likelihood vs N of topics\")\n",
    "plt.xlabel(\"N of topics\")\n",
    "plt.ylabel(\"Log Likelihood\")\n",
    "\n",
    "plt.tight_layout()\n",
    "plt.show()"
   ]
  },
  {
   "cell_type": "code",
   "execution_count": null,
   "id": "4ae8d0cb",
   "metadata": {},
   "outputs": [],
   "source": [
    "from gensim import corpora\n",
    "from gensim.models import CoherenceModel\n",
    "\n",
    "tokenized_texts = [text.split() for text in tweets.lemmatized]\n",
    "\n",
    "dictionary = corpora.Dictionary(tokenized_texts)\n",
    "\n",
    "corpus = [dictionary.doc2bow(text) for text in tokenized_texts]\n"
   ]
  },
  {
   "cell_type": "code",
   "execution_count": null,
   "id": "97fe970f",
   "metadata": {},
   "outputs": [
    {
     "name": "stdout",
     "output_type": "stream",
     "text": [
      "✅ Coherence @ 2 topics: 0.4048\n",
      "✅ Coherence @ 3 topics: 0.4861\n",
      "✅ Coherence @ 4 topics: 0.4848\n",
      "✅ Coherence @ 5 topics: 0.5264\n",
      "✅ Coherence @ 6 topics: 0.5196\n",
      "✅ Coherence @ 7 topics: 0.5094\n",
      "✅ Coherence @ 8 topics: 0.4783\n",
      "✅ Coherence @ 9 topics: 0.5028\n"
     ]
    }
   ],
   "source": [
    "coherence_scores = []\n",
    "\n",
    "for i, lda_model in enumerate(lda_models):\n",
    "    words_filtered = filtered_words_list[i]\n",
    "\n",
    "    # Getting topics as a list of lists of words\n",
    "    topics = []\n",
    "    for topic in lda_model.components_:\n",
    "        top_indices = topic.argsort()[-10:][::-1]\n",
    "        topic_words = [words_filtered[i] for i in top_indices]\n",
    "        topics.append(topic_words)\n",
    "\n",
    "    # Building coherence model\n",
    "    cm = CoherenceModel(\n",
    "        topics=topics,\n",
    "        texts=tokenized_texts,\n",
    "        dictionary=dictionary,\n",
    "        coherence='c_v' \n",
    "    )\n",
    "    coherence = cm.get_coherence()\n",
    "    coherence_scores.append(coherence)\n",
    "\n",
    "    print(f\"✅ Coherence @ {topic_range[i]} topics: {coherence:.4f}\")\n"
   ]
  },
  {
   "cell_type": "code",
   "execution_count": 21,
   "id": "08c4fc5e",
   "metadata": {},
   "outputs": [
    {
     "data": {
      "image/png": "[encoded data removed]",
      "text/plain": [
       "<Figure size 800x500 with 1 Axes>"
      ]
     },
     "metadata": {},
     "output_type": "display_data"
    }
   ],
   "source": [
    "import matplotlib.pyplot as plt\n",
    "\n",
    "plt.figure(figsize=(8, 5))\n",
    "plt.plot(list(topic_range), coherence_scores, marker='o')\n",
    "plt.title(\"Coherence Score per Number of Topics\")\n",
    "plt.xlabel(\"Number of Topics\")\n",
    "plt.ylabel(\"Coherence (c_v)\")\n",
    "plt.grid(True)\n",
    "plt.show()\n"
   ]
  },
  {
   "cell_type": "code",
   "execution_count": null,
   "id": "85ba2aa9",
   "metadata": {},
   "outputs": [
    {
     "name": "stdout",
     "output_type": "stream",
     "text": [
      "🔠 Vectorization...\n"
     ]
    },
    {
     "data": {
      "application/vnd.jupyter.widget-view+json": {
       "model_id": "b4a3274de236449694e282d77df56556",
       "version_major": 2,
       "version_minor": 0
      },
      "text/plain": [
       "Texts:   0%|          | 0/268121 [00:00<?, ?it/s]"
      ]
     },
     "metadata": {},
     "output_type": "display_data"
    }
   ],
   "source": [
    "from sklearn.feature_extraction.text import CountVectorizer\n",
    "from tqdm.notebook import tqdm\n",
    "\n",
    "custom_stopwords = [\n",
    "    \"people\", \"thing\", \"know\", \"want\", \"think\", \"say\", \"said\",\n",
    "    \"election\", \"vote\", \"voting\", \"joe\", \"biden\", \"donald\", \"trump\", \"campaign\",\n",
    "    \"harris\", \"kamala\", \"election\", \"win\", \"vance\"\n",
    "]\n",
    "print(\"🔠 Vectorization...\")\n",
    "vectorizer = CountVectorizer(\n",
    "    max_df=0.85,\n",
    "    min_df=10,\n",
    "    max_features=5000,\n",
    "    stop_words=\"english\"\n",
    ")\n",
    "vectorizer.stop_words_ = vectorizer.get_stop_words().union(custom_stopwords)\n",
    "dtm = vectorizer.fit_transform(tqdm(tweets[\"lemmatized\"], desc=\"Texts\"))"
   ]
  },
  {
   "cell_type": "code",
   "execution_count": 13,
   "id": "28a88e03",
   "metadata": {},
   "outputs": [],
   "source": [
    "best_index = coherence_scores.index(max(coherence_scores))"
   ]
  },
  {
   "cell_type": "code",
   "execution_count": 22,
   "id": "589343e4",
   "metadata": {},
   "outputs": [
    {
     "name": "stdout",
     "output_type": "stream",
     "text": [
      "🧠 Topic 1: like, right, president, need, good, fuck, come, feel, fight, time, tell, look, year, country, let\n",
      "🧠 Topic 2: america, speech, god, president, thank, great, world, elon, amp, love, musk, work, country, good, concession\n",
      "🧠 Topic 3: victory, president, million, new, presidential, presidentelect, term, congratulation, return, united, second, political, billion, states, american\n",
      "🧠 Topic 4: president, woman, white, man, black, lose, house, presidential, vice, th, race, united, concede, states, elect\n",
      "🧠 Topic 5: party, democratic, republican, need, like, work, right, democrat, green, class, year, democrats, leave, lose, voter\n",
      "🧠 Topic 6: dnc, candidate, lose, run, time, voter, like, medium, lie, state, year, amp, million, bad, primary\n"
     ]
    }
   ],
   "source": [
    "best_model = lda_models[best_index]\n",
    "best_words = filtered_words_list[best_index]\n",
    "\n",
    "def print_top_words(model, words, n=15):\n",
    "    for topic_idx, topic in enumerate(model.components_):\n",
    "        top_indices = topic.argsort()[-n:][::-1]\n",
    "        top_words = [words[i] for i in top_indices]\n",
    "        print(f\"🧠 Topic {topic_idx + 1}: {', '.join(top_words)}\")\n",
    "\n",
    "print_top_words(best_model, best_words, 15)"
   ]
  },
  {
   "cell_type": "code",
   "execution_count": 26,
   "id": "f2c90345",
   "metadata": {},
   "outputs": [
    {
     "data": {
      "text/plain": [
       "4"
      ]
     },
     "execution_count": 26,
     "metadata": {},
     "output_type": "execute_result"
    }
   ],
   "source": [
    "best_index"
   ]
  },
  {
   "cell_type": "code",
   "execution_count": null,
   "id": "9c190836",
   "metadata": {},
   "outputs": [
    {
     "name": "stdout",
     "output_type": "stream",
     "text": [
      "                                               lemmatized  dominant_topic  \\\n",
      "65872   protect filibuster important vast majority tru...               4   \n",
      "102152  poll say   people certain battleground state v...               5   \n",
      "80207   frustrated hispaniclatino voter post rmoderate...               5   \n",
      "121886  not add inability understand democratic party ...               4   \n",
      "5424                                                                    0   \n",
      "20446   yes person need s indictment day   new rule de...               0   \n",
      "124433          tell dnc wrong choice instead snivel worm               5   \n",
      "133449  donald trump blame democrats kamala harris joe...               5   \n",
      "49001   not want laugh clown call kamala harris \\n tha...               1   \n",
      "153305  republican s news vote dnc spout dem propogand...               5   \n",
      "\n",
      "        topic_prob  \n",
      "65872     0.882102  \n",
      "102152    0.923438  \n",
      "80207     0.612345  \n",
      "121886    0.940192  \n",
      "5424      0.166667  \n",
      "20446     0.524257  \n",
      "124433    0.880509  \n",
      "133449    0.832730  \n",
      "49001     0.576467  \n",
      "153305    0.794264  \n"
     ]
    }
   ],
   "source": [
    "lda_model = best_model\n",
    "\n",
    "# Tweets vectorization\n",
    "X = X_matrices[best_index]\n",
    "\n",
    "# Topics distribution\n",
    "topic_probs = lda_model.transform(X)  # shape: (n_docs, n_topics)\n",
    "\n",
    "# Detection of the most competable topic per tweet\n",
    "tweets['dominant_topic'] = topic_probs.argmax(axis=1)\n",
    "\n",
    "# Probability of belonging to the topic per tweet\n",
    "tweets['topic_prob'] = topic_probs.max(axis=1)\n",
    "\n",
    "# Examples\n",
    "print(tweets[['lemmatized', 'dominant_topic', 'topic_prob']].sample(10))\n"
   ]
  },
  {
   "cell_type": "code",
   "execution_count": null,
   "id": "79148431",
   "metadata": {},
   "outputs": [
    {
     "name": "stdout",
     "output_type": "stream",
     "text": [
      "sentiment       positive  negative  polarization_score\n",
      "dominant_topic                                        \n",
      "0               0.368477  0.328431            0.040046\n",
      "1               0.631859  0.189876            0.441984\n",
      "2               0.509514  0.237408            0.272106\n",
      "3               0.416914  0.297100            0.119815\n",
      "4               0.598122  0.287292            0.310831\n",
      "5               0.377768  0.415974            0.038205\n"
     ]
    }
   ],
   "source": [
    "# Fraction of positive and negative tweets per topic\n",
    "polarization = tweets.groupby(\"dominant_topic\")[\"sentiment\"].value_counts(normalize=True).unstack().fillna(0)\n",
    "polarization[\"polarization_score\"] = (polarization[\"positive\"] - polarization[\"negative\"]).abs()\n",
    "\n",
    "print(polarization[[\"positive\", \"negative\", \"polarization_score\"]])"
   ]
  },
  {
   "cell_type": "code",
   "execution_count": 29,
   "id": "b92956de",
   "metadata": {},
   "outputs": [],
   "source": [
    "tweets.to_csv(\"tweets_processed.csv\", index=False)"
   ]
  },
  {
   "cell_type": "code",
   "execution_count": 30,
   "id": "936c5420",
   "metadata": {},
   "outputs": [],
   "source": [
    "polarization.to_csv(\"topic_polarization_scores.csv\")"
   ]
  }
 ],
 "metadata": {
  "kernelspec": {
   "display_name": ".venv",
   "language": "python",
   "name": "python3"
  },
  "language_info": {
   "codemirror_mode": {
    "name": "ipython",
    "version": 3
   },
   "file_extension": ".py",
   "mimetype": "text/x-python",
   "name": "python",
   "nbconvert_exporter": "python",
   "pygments_lexer": "ipython3",
   "version": "3.10.11"
  }
 },
 "nbformat": 4,
 "nbformat_minor": 5
}
